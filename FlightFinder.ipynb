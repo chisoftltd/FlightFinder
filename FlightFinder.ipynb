{
  "cells": [
    {
      "cell_type": "markdown",
      "metadata": {
        "id": "view-in-github",
        "colab_type": "text"
      },
      "source": [
        "<a href=\"https://colab.research.google.com/github/chisoftltd/FlightFinder/blob/main/FlightFinder.ipynb\" target=\"_parent\"><img src=\"https://colab.research.google.com/assets/colab-badge.svg\" alt=\"Open In Colab\"/></a>"
      ]
    },
    {
      "cell_type": "code",
      "source": [
        "!pip install twilio"
      ],
      "metadata": {
        "id": "5HuPnf2Nmb76"
      },
      "execution_count": null,
      "outputs": []
    },
    {
      "cell_type": "code",
      "execution_count": null,
      "metadata": {
        "id": "ucD_c2ihoNCV"
      },
      "outputs": [],
      "source": [
        "\n",
        "from google.colab import drive\n",
        "drive.mount('/content/drive', force_remount=True)\n",
        "\n"
      ]
    },
    {
      "cell_type": "code",
      "execution_count": null,
      "metadata": {
        "id": "BQOJAjbHowJp"
      },
      "outputs": [],
      "source": [
        "!ls /content/drive/MyDrive/100Days_of_CodeTheCompletePythonProBootcamp_for2023/Flight_Deal_Finder\n",
        "%cd /content/drive/MyDrive/100Days_of_CodeTheCompletePythonProBootcamp_for2023/Flight_Deal_Finder"
      ]
    },
    {
      "cell_type": "code",
      "execution_count": null,
      "metadata": {
        "id": "n6KAcyd3wRLi"
      },
      "outputs": [],
      "source": [
        "class FlightData:\n",
        "\n",
        "    def __init__(self, price, origin_city, origin_airport, destination_city, destination_airport, out_date, return_date):\n",
        "        self.price = price\n",
        "        self.origin_city = origin_city\n",
        "        self.origin_airport = origin_airport\n",
        "        self.destination_city = destination_city\n",
        "        self.destination_airport = destination_airport\n",
        "        self.out_date = out_date\n",
        "        self.return_date = return_date"
      ]
    },
    {
      "cell_type": "code",
      "execution_count": null,
      "metadata": {
        "id": "G3D6Vk_5qb7n"
      },
      "outputs": [],
      "source": [
        "import requests\n",
        "SHEETY_PRICES_ENDPOINT = 'https://api.sheety.co/0b454e5fe21e86cfcf0bdab83e13b8bd/benFlightDeals/prices'\n",
        "\n",
        "\n",
        "class DataManager:\n",
        "\n",
        "    def __init__(self):\n",
        "        self.destination_data = {}\n",
        "\n",
        "    def get_destination_data(self):\n",
        "        # 2. Use the Sheety API to GET all the data in that sheet and print it out.\n",
        "        response = requests.get(url=SHEETY_PRICES_ENDPOINT)\n",
        "        data = response.json()\n",
        "        self.destination_data = data[\"prices\"]\n",
        "        # 3. Try importing pretty print and printing the data out again using pprint() to see it formatted.\n",
        "        # pprint(data)\n",
        "        return self.destination_data\n",
        "\n",
        "    # 6. In the DataManager Class make a PUT request and use the row id from sheet_data\n",
        "    # to update the Google Sheet with the IATA codes. (Do this using code).\n",
        "    def update_destination_codes(self):\n",
        "        for city in self.destination_data:\n",
        "            new_data = {\n",
        "                \"price\": {\n",
        "                    \"iataCode\": city[\"iataCode\"]\n",
        "                }\n",
        "            }\n",
        "            response = requests.put(\n",
        "                url=f\"{SHEETY_PRICES_ENDPOINT}/{city['id']}\",\n",
        "                json=new_data\n",
        "            )\n",
        "            print(response.text)\n"
      ]
    },
    {
      "cell_type": "code",
      "execution_count": null,
      "metadata": {
        "id": "oRI74LeomgMk"
      },
      "outputs": [],
      "source": [
        "TEQUILA_ENDPOINT = \"https://tequila-api.kiwi.com\"\n",
        "TEQUILA_API_KEY = \"4HE8rB46chl9cNHK64bAN4fsxK45DJNf0369147\"\n",
        "\n",
        "\n",
        "class FlightSearch:\n",
        "\n",
        "    def get_destination_code(self, city_name):\n",
        "        location_endpoint = f\"{TEQUILA_ENDPOINT}/locations/query\"\n",
        "        headers = {\"apikey\": TEQUILA_API_KEY}\n",
        "        query = {\"term\": city_name, \"location_types\": \"city\"}\n",
        "        response = requests.get(url=location_endpoint, headers=headers, params=query)\n",
        "        results = response.json()[\"locations\"]\n",
        "        code = results[0][\"code\"]\n",
        "        return code\n",
        "\n",
        "\n",
        "    def check_flights(self, origin_city_code, destination_city_code, from_time, to_time):\n",
        "        headers = {\"apikey\": TEQUILA_API_KEY}\n",
        "        query = {\n",
        "            \"fly_from\": origin_city_code,\n",
        "            \"fly_to\": destination_city_code,\n",
        "            \"date_from\": from_time.strftime(\"%d/%m/%Y\"),\n",
        "            \"date_to\": to_time.strftime(\"%d/%m/%Y\"),\n",
        "            \"nights_in_dst_from\": 7,\n",
        "            \"nights_in_dst_to\": 28,\n",
        "            \"one_for_city\": 1,\n",
        "            \"max_stopovers\": 0,\n",
        "            \"curr\": \"GBP\"\n",
        "        }\n",
        "\n",
        "        response = requests.get(\n",
        "            url=f\"{TEQUILA_ENDPOINT}/search\",\n",
        "            headers=headers,\n",
        "            params=query,\n",
        "        )\n",
        "\n",
        "        try:\n",
        "            print(f'FlightSearch.check_flights: {response = }')\n",
        "            print(f'FlightSearch.check_flights: {response.json() = }')\n",
        "            data = response.json()[\"data\"][0]\n",
        "            print(f'FlightSearch.check_flights: {data = }')\n",
        "        except IndexError:\n",
        "            print(f\"No flights found for {destination_city_code}.\")\n",
        "            return None\n",
        "\n",
        "        flight_data = FlightData(\n",
        "            price=data[\"price\"],\n",
        "            origin_city=data[\"route\"][0][\"cityFrom\"],\n",
        "            origin_airport=data[\"route\"][0][\"flyFrom\"],\n",
        "            destination_city=data[\"route\"][0][\"cityTo\"],\n",
        "            destination_airport=data[\"route\"][0][\"flyTo\"],\n",
        "            out_date=data[\"route\"][0][\"local_departure\"].split(\"T\")[0],\n",
        "            return_date=data[\"route\"][1][\"local_departure\"].split(\"T\")[0]\n",
        "        )\n",
        "        print(f\"{flight_data.destination_city}: £{flight_data.price}\")\n",
        "        return flight_data"
      ]
    },
    {
      "cell_type": "code",
      "execution_count": null,
      "metadata": {
        "id": "yjdcT4k0I0pU"
      },
      "outputs": [],
      "source": [
        "# Download the helper library from https://www.twilio.com/docs/python/install\n",
        "import os\n",
        "\n",
        "from twilio.rest import Client\n",
        "\n",
        "TWILIO_SID = 'AC35908559e4b634d2c2eb2339747e67f8225971'\n",
        "TWILIO_AUTH_TOKEN = '94fe5d6611325fd1c1ba717352d2ba5b23654'\n",
        "TWILIO_VIRTUAL_NUMBER = '+234770014244009887'\n",
        "TWILIO_VERIFIED_NUMBER = '+234759704436412584'\n",
        "\n",
        "\n",
        "class NotificationManager:\n",
        "\n",
        "    def __init__(self):\n",
        "        self.client = Client(TWILIO_SID, TWILIO_AUTH_TOKEN)\n",
        "\n",
        "    def send_sms(self, message):\n",
        "        message = self.client.messages.create(\n",
        "            body=message,\n",
        "            from_=TWILIO_VIRTUAL_NUMBER,\n",
        "            to=TWILIO_VERIFIED_NUMBER,\n",
        "        )\n",
        "        # Prints if successfully sent.\n",
        "        print(message.sid)"
      ]
    },
    {
      "cell_type": "code",
      "execution_count": null,
      "metadata": {
        "id": "2Tca2aVmwGlY"
      },
      "outputs": [],
      "source": [
        "# 4. Pass the data back to the main.py file, so that you can print the data from main.py\n",
        "import sys\n",
        "sys.path.insert(0, '/content/drive/MyDrive/100Days_of_CodeTheCompletePythonProBootcamp_for2023/Flight_Deal_Finder/data_manager.py')  # Replace with the actual path\n",
        "\n",
        "\n",
        "from datetime import datetime, timedelta\n",
        "# from data_manager import DataManager\n",
        "data_manager = DataManager()\n",
        "sheet_data = data_manager.get_destination_data()\n",
        "flight_search = FlightSearch()\n",
        "# print(sheet_data)\n",
        "\n",
        "ORIGIN_CITY_IATA = \"LON\"\n",
        "\n",
        "\n",
        "#  5. In main.py check if sheet_data contains any values for the \"iataCode\" key.\n",
        "#  If not, then the IATA Codes column is empty in the Google Sheet.\n",
        "#  In this case, pass each city name in sheet_data one-by-one\n",
        "#  to the FlightSearch class to get the corresponding IATA code\n",
        "#  for that city using the Flight Search API.\n",
        "#  You should use the code you get back to update the sheet_data dictionary.\n",
        "if sheet_data[0][\"iataCode\"] == \"\":\n",
        "    for row in sheet_data:\n",
        "        row[\"iataCode\"] = flight_search.get_destination_code(row[\"city\"])\n",
        "    data_manager.destination_data = sheet_data\n",
        "    data_manager.update_destination_codes()\n",
        "\n",
        "tomorrow = datetime.now() + timedelta(days=1)\n",
        "six_month_from_today = datetime.now() + timedelta(days=(6 * 30))\n",
        "\n",
        "\n",
        "\n",
        "for destination in sheet_data:\n",
        "    flight = flight_search.check_flights(\n",
        "        ORIGIN_CITY_IATA,\n",
        "        destination[\"iataCode\"],\n",
        "        from_time=tomorrow,\n",
        "        to_time=six_month_from_today\n",
        "    )\n",
        "\n",
        "\n",
        "if flight.price < destination[\"lowestPrice\"]:\n",
        "        notification_manager.send_sms(\n",
        "            message=f\"Low price alert! Only £{flight.price} to fly from {flight.origin_city}-{flight.origin_airport} to {flight.destination_city}-{flight.destination_airport}, from {flight.out_date} to {flight.return_date}.\"\n",
        "        )"
      ]
    }
  ],
  "metadata": {
    "colab": {
      "provenance": [],
      "toc_visible": true,
      "authorship_tag": "ABX9TyMybLykj0B+elff+ktZ8QPC",
      "include_colab_link": true
    },
    "kernelspec": {
      "display_name": "Python 3",
      "name": "python3"
    },
    "language_info": {
      "name": "python"
    }
  },
  "nbformat": 4,
  "nbformat_minor": 0
}